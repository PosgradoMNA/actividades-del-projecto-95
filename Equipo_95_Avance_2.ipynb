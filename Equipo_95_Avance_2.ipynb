{
  "nbformat": 4,
  "nbformat_minor": 0,
  "metadata": {
    "colab": {
      "provenance": []
    },
    "kernelspec": {
      "name": "python3",
      "display_name": "Python 3"
    },
    "language_info": {
      "name": "python"
    }
  },
  "cells": [
    {
      "cell_type": "markdown",
      "source": [
        "Proyecto final - Avance 2\n",
        "\n",
        "\n",
        "Christian Emilio Saldana Lopez - a00506509\n",
        "Fernando Anaya Delgado - A01793832"
      ],
      "metadata": {
        "id": "aPFE-DSqH8bN"
      }
    },
    {
      "cell_type": "markdown",
      "source": [
        "National Soccer Teams International Matches\n",
        "\n",
        "\n",
        "For the analysis of the database that we selected, we will use the CRISP-DM technique due to the data contained in the database and the needs of those who await the result.\n",
        "\n",
        "\n",
        "Business Understanding\n",
        "\n",
        "In this database the main purpose is to find data that may be useful for soccer lovers and for all those gamblers interested in different topics such as:  Can you predict what team is most likely to win the 2022 FIFA World Cup? What team has the strongest defense, midfield, and offense players? Is there really such a thing as a home team advantage?  And  others \n",
        "\n",
        "Data Understanding \n",
        "\n",
        "This dataset provides a complete overview of all international soccer matches played since the 90s. On top of that, the strength of each team is provided by incorporating actual FIFA rankings as well as player strengths based on the EA Sport FIFA video game.\n",
        "\n",
        "Data Preparation\n",
        "\n",
        "We are looking to eliminate all that information that will not be relevant for the analysis. The points we want to focus on are the team's probability of victory, better defense, better offense, scoring effectiveness and the probability that a team from which continent wins the world cup.\n",
        "\n",
        "\n",
        "Modeling\n",
        "\n",
        "We will seek to use a regression technique since we have the result of many of the matches since 1990 and also the different result of the finals from this date forwards and backwards.\n",
        "\n",
        "\n",
        "Evaluation\n",
        "\n",
        "Before analyzing the results we will seek to carry out tests with the information trying to simulate the results of the 2018 World Cup in Russia and thus verify how many results we can predict by comparing them with the results documented in FIFA\n",
        "\n",
        "Deployment\n",
        "\n",
        "Once we have accurate results, the database will be released to be able to predict the 2022 World Cup that will take place in Qatar and we will start looking for the results of the first round 1 matches.\n"
      ],
      "metadata": {
        "id": "W2dKosNeIbWg"
      }
    },
    {
      "cell_type": "markdown",
      "source": [],
      "metadata": {
        "id": "qJFpqZbWIdFM"
      }
    }
  ]
}