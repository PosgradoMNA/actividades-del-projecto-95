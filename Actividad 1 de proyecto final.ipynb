{
  "nbformat": 4,
  "nbformat_minor": 0,
  "metadata": {
    "colab": {
      "provenance": []
    },
    "kernelspec": {
      "name": "python3",
      "display_name": "Python 3"
    },
    "language_info": {
      "name": "python"
    }
  },
  "cells": [
    {
      "cell_type": "code",
      "execution_count": null,
      "metadata": {
        "id": "H56-dBnYM1WS"
      },
      "outputs": [],
      "source": [
        "#FIFA World Cup 2022\n"
      ]
    },
    {
      "cell_type": "markdown",
      "source": [
        "\n",
        "\n",
        "\n",
        "*   DataBase Name\n",
        "\n",
        "International soccer matches and team strengths (1993-2022)\n",
        "\n",
        "\n",
        "\n",
        "*   Organization\n",
        "\n",
        "International soccer matches by @martj42\n",
        "FIFA ranking up to June 2018 by @tadhgfitzgerald . More recent FIFA rankings were scraped from the FIFA website\n",
        "FIFA player dataset versions 15-22 by @stefanoleone992 . Older versions and FIFA 23 were scraped from www.sofifa.com and www.finfaindex.com.\n",
        "\n",
        "\n",
        "* Description\n",
        "\n",
        "This dataset provides a complete overview of all international soccer matches played since the 90s. On top of that, the strength of each team is provided by incorporating actual FIFA rankings as well as player strengths based on the EA Sport FIFA video game.\n",
        "\n",
        "\n",
        "*   Link\n",
        "\n",
        "https://www.kaggle.com/datasets/brenda89/fifa-world-cup-2022\n",
        "\n",
        "* Questions?\n",
        "\n",
        " Can you predict what team is most likely to win the 2022 FIFA World Cup?\n",
        "· What team has the strongest defense, midfield, and offense players?\n",
        "· Is there really such a thing as a home team advantage?\n",
        "· Do teams with stronger offense players score more goals?\n",
        "· And do teams with stronger goalkeepers receive fewer goals?\n",
        "· What team has the longest winning streak?\n",
        "· Does the best team always win?\n",
        "· Can you explain why a weaker team sometimes win?\n",
        "\n",
        "\n",
        "\n",
        "*   Actor, Company Society:\n",
        "\n",
        "Gamblers, lovers of soccer, FIFA and others\n",
        "\n",
        "\n",
        "\n",
        "\n",
        "\n",
        "\n",
        "\n",
        "\n"
      ],
      "metadata": {
        "id": "_ZAqTFdjNC-P"
      }
    },
    {
      "cell_type": "markdown",
      "source": [],
      "metadata": {
        "id": "PjrRDcX8NBVG"
      }
    }
  ]
}